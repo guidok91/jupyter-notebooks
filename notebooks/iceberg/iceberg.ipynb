{
 "cells": [
  {
   "cell_type": "markdown",
   "id": "6a5e0b25-44af-4485-a5c0-5396caaa984a",
   "metadata": {
    "tags": []
   },
   "source": [
    "# Set up local SparkSession"
   ]
  },
  {
   "cell_type": "code",
   "execution_count": 1,
   "id": "30cc3b7e-0e51-4008-9647-3edad7fa801d",
   "metadata": {},
   "outputs": [],
   "source": [
    "from datetime import date\n",
    "\n",
    "from pyspark.sql import SparkSession\n",
    "import pyspark.sql.functions as F"
   ]
  },
  {
   "cell_type": "code",
   "execution_count": 2,
   "id": "d58af772-e2f2-407d-97d8-05196ca1a08c",
   "metadata": {},
   "outputs": [
    {
     "name": "stderr",
     "output_type": "stream",
     "text": [
      "22/08/12 16:41:22 WARN Utils: Your hostname, HF-LPT-1115A.local resolves to a loopback address: 127.0.0.1; using 192.168.178.21 instead (on interface en0)\n",
      "22/08/12 16:41:22 WARN Utils: Set SPARK_LOCAL_IP if you need to bind to another address\n",
      "Ivy Default Cache set to: /Users/guido.kosloffgancedo/.ivy2/cache\n",
      "The jars for the packages stored in: /Users/guido.kosloffgancedo/.ivy2/jars\n",
      "org.apache.iceberg#iceberg-spark-runtime-3.2_2.12 added as a dependency\n",
      ":: resolving dependencies :: org.apache.spark#spark-submit-parent-a360e4bb-aa4f-4663-99ce-3d13365af1fd;1.0\n",
      "\tconfs: [default]\n"
     ]
    },
    {
     "name": "stdout",
     "output_type": "stream",
     "text": [
      ":: loading settings :: url = jar:file:/Users/guido.kosloffgancedo/Git/pp/jupyter-demo/.venv/lib/python3.9/site-packages/pyspark/jars/ivy-2.5.0.jar!/org/apache/ivy/core/settings/ivysettings.xml\n"
     ]
    },
    {
     "name": "stderr",
     "output_type": "stream",
     "text": [
      "\tfound org.apache.iceberg#iceberg-spark-runtime-3.2_2.12;0.14.0 in central\n",
      ":: resolution report :: resolve 125ms :: artifacts dl 3ms\n",
      "\t:: modules in use:\n",
      "\torg.apache.iceberg#iceberg-spark-runtime-3.2_2.12;0.14.0 from central in [default]\n",
      "\t---------------------------------------------------------------------\n",
      "\t|                  |            modules            ||   artifacts   |\n",
      "\t|       conf       | number| search|dwnlded|evicted|| number|dwnlded|\n",
      "\t---------------------------------------------------------------------\n",
      "\t|      default     |   1   |   0   |   0   |   0   ||   1   |   0   |\n",
      "\t---------------------------------------------------------------------\n",
      ":: retrieving :: org.apache.spark#spark-submit-parent-a360e4bb-aa4f-4663-99ce-3d13365af1fd\n",
      "\tconfs: [default]\n",
      "\t0 artifacts copied, 1 already retrieved (0kB/3ms)\n",
      "22/08/12 16:41:23 WARN NativeCodeLoader: Unable to load native-hadoop library for your platform... using builtin-java classes where applicable\n",
      "Using Spark's default log4j profile: org/apache/spark/log4j-defaults.properties\n",
      "Setting default log level to \"WARN\".\n",
      "To adjust logging level use sc.setLogLevel(newLevel). For SparkR, use setLogLevel(newLevel).\n"
     ]
    }
   ],
   "source": [
    "spark = (\n",
    "    SparkSession\n",
    "    .builder\n",
    "    .master(\"local[*]\")\n",
    "    .config(\"spark.jars.packages\", \"org.apache.iceberg:iceberg-spark-runtime-3.2_2.12:0.14.0\")\n",
    "    .config(\"spark.sql.extensions\", \"org.apache.iceberg.spark.extensions.IcebergSparkSessionExtensions\")\n",
    "    .config(\"spark.sql.catalog.spark_catalog\", \"org.apache.iceberg.spark.SparkSessionCatalog\")\n",
    "    .config(\"spark.sql.catalog.spark_catalog.type\", \"hive\")\n",
    "    .config(\"spark.sql.catalog.local\", \"org.apache.iceberg.spark.SparkCatalog\")\n",
    "    .config(\"spark.sql.catalog.local.type\", \"hadoop\")\n",
    "    .config(\"spark.sql.catalog.local.warehouse\", \"spark-warehouse\")\n",
    "    .config(\"spark.sql.sources.partitionOverwriteMode\", \"dynamic\")\n",
    "    .config(\"spark.sql.repl.eagerEval.enabled\", True)\n",
    "    .config(\"spark.sql.repl.eagerEval.maxNumRows\", 10)\n",
    "    .getOrCreate()\n",
    ")"
   ]
  },
  {
   "cell_type": "markdown",
   "id": "f85dda43-a317-464e-8df0-b9c0dd118810",
   "metadata": {},
   "source": [
    "# Read flights data from CSV"
   ]
  },
  {
   "cell_type": "code",
   "execution_count": 3,
   "id": "f5960c92-5854-40f9-8806-cd5e71159707",
   "metadata": {},
   "outputs": [
    {
     "data": {
      "text/html": [
       "<table border='1'>\n",
       "<tr><th>year</th><th>month</th><th>day</th><th>departure_time</th><th>arrival_time</th><th>carrier</th><th>flight_number</th><th>aircraft_registration</th><th>flight_time</th><th>airport_origin</th><th>airport_destination</th><th>distance</th><th>is_cancelled</th><th>is_diverted</th></tr>\n",
       "<tr><td>2008</td><td>1</td><td>3</td><td>1343</td><td>1451</td><td>WN</td><td>588</td><td>N240WN</td><td>68</td><td>HOU</td><td>LIT</td><td>393</td><td>0</td><td>0</td></tr>\n",
       "<tr><td>2008</td><td>1</td><td>3</td><td>1125</td><td>1247</td><td>WN</td><td>1343</td><td>N523SW</td><td>82</td><td>HOU</td><td>MAF</td><td>441</td><td>0</td><td>0</td></tr>\n",
       "<tr><td>2008</td><td>1</td><td>3</td><td>2009</td><td>2136</td><td>WN</td><td>3841</td><td>N280WN</td><td>87</td><td>HOU</td><td>MAF</td><td>441</td><td>0</td><td>0</td></tr>\n",
       "<tr><td>2008</td><td>1</td><td>3</td><td>903</td><td>1203</td><td>WN</td><td>3</td><td>N308SA</td><td>120</td><td>HOU</td><td>MCO</td><td>848</td><td>0</td><td>0</td></tr>\n",
       "<tr><td>2008</td><td>1</td><td>3</td><td>1423</td><td>1726</td><td>WN</td><td>25</td><td>N462WN</td><td>123</td><td>HOU</td><td>MCO</td><td>848</td><td>0</td><td>0</td></tr>\n",
       "<tr><td>2008</td><td>1</td><td>3</td><td>2024</td><td>2325</td><td>WN</td><td>51</td><td>N483WN</td><td>121</td><td>HOU</td><td>MCO</td><td>848</td><td>0</td><td>0</td></tr>\n",
       "<tr><td>2008</td><td>1</td><td>3</td><td>1753</td><td>2053</td><td>WN</td><td>940</td><td>N493WN</td><td>120</td><td>HOU</td><td>MCO</td><td>848</td><td>0</td><td>0</td></tr>\n",
       "<tr><td>2008</td><td>1</td><td>3</td><td>622</td><td>935</td><td>WN</td><td>2621</td><td>N266WN</td><td>133</td><td>HOU</td><td>MCO</td><td>848</td><td>0</td><td>0</td></tr>\n",
       "<tr><td>2008</td><td>1</td><td>3</td><td>1944</td><td>2210</td><td>WN</td><td>389</td><td>N266WN</td><td>146</td><td>HOU</td><td>MDW</td><td>937</td><td>0</td><td>0</td></tr>\n",
       "<tr><td>2008</td><td>1</td><td>3</td><td>1453</td><td>1716</td><td>WN</td><td>519</td><td>N514SW</td><td>143</td><td>HOU</td><td>MDW</td><td>937</td><td>0</td><td>0</td></tr>\n",
       "</table>\n",
       "only showing top 10 rows\n"
      ],
      "text/plain": [
       "+----+-----+---+--------------+------------+-------+-------------+---------------------+-----------+--------------+-------------------+--------+------------+-----------+\n",
       "|year|month|day|departure_time|arrival_time|carrier|flight_number|aircraft_registration|flight_time|airport_origin|airport_destination|distance|is_cancelled|is_diverted|\n",
       "+----+-----+---+--------------+------------+-------+-------------+---------------------+-----------+--------------+-------------------+--------+------------+-----------+\n",
       "|2008|    1|  3|          1343|        1451|     WN|          588|               N240WN|         68|           HOU|                LIT|     393|           0|          0|\n",
       "|2008|    1|  3|          1125|        1247|     WN|         1343|               N523SW|         82|           HOU|                MAF|     441|           0|          0|\n",
       "|2008|    1|  3|          2009|        2136|     WN|         3841|               N280WN|         87|           HOU|                MAF|     441|           0|          0|\n",
       "|2008|    1|  3|           903|        1203|     WN|            3|               N308SA|        120|           HOU|                MCO|     848|           0|          0|\n",
       "|2008|    1|  3|          1423|        1726|     WN|           25|               N462WN|        123|           HOU|                MCO|     848|           0|          0|\n",
       "|2008|    1|  3|          2024|        2325|     WN|           51|               N483WN|        121|           HOU|                MCO|     848|           0|          0|\n",
       "|2008|    1|  3|          1753|        2053|     WN|          940|               N493WN|        120|           HOU|                MCO|     848|           0|          0|\n",
       "|2008|    1|  3|           622|         935|     WN|         2621|               N266WN|        133|           HOU|                MCO|     848|           0|          0|\n",
       "|2008|    1|  3|          1944|        2210|     WN|          389|               N266WN|        146|           HOU|                MDW|     937|           0|          0|\n",
       "|2008|    1|  3|          1453|        1716|     WN|          519|               N514SW|        143|           HOU|                MDW|     937|           0|          0|\n",
       "+----+-----+---+--------------+------------+-------+-------------+---------------------+-----------+--------------+-------------------+--------+------------+-----------+\n",
       "only showing top 10 rows"
      ]
     },
     "execution_count": 3,
     "metadata": {},
     "output_type": "execute_result"
    }
   ],
   "source": [
    "df = (\n",
    "    spark\n",
    "    .read\n",
    "    .option(\"header\", True)\n",
    "    .option(\"inferSchema\", True)\n",
    "    .csv(\"flights.csv\")\n",
    ")\n",
    "df"
   ]
  },
  {
   "cell_type": "markdown",
   "id": "ca5a933e-d649-4be7-a551-aa7b645007e3",
   "metadata": {},
   "source": [
    "# Perform some simple aggregations and transformations"
   ]
  },
  {
   "cell_type": "code",
   "execution_count": 4,
   "id": "4bb424ef-10a7-4f9d-bfb5-d8df99b326db",
   "metadata": {},
   "outputs": [
    {
     "data": {
      "text/html": [
       "<table border='1'>\n",
       "<tr><th>date</th><th>airport_origin</th><th>airport_destination</th><th>count_flights</th><th>avg_flight_time</th></tr>\n",
       "<tr><td>2008-01-03</td><td>LAX</td><td>OAK</td><td>20</td><td>80</td></tr>\n",
       "<tr><td>2008-01-03</td><td>LAS</td><td>PHX</td><td>18</td><td>64</td></tr>\n",
       "<tr><td>2008-01-03</td><td>LAX</td><td>LAS</td><td>14</td><td>63</td></tr>\n",
       "<tr><td>2008-01-03</td><td>LAS</td><td>LAX</td><td>14</td><td>67</td></tr>\n",
       "<tr><td>2008-01-03</td><td>LAS</td><td>SAN</td><td>14</td><td>63</td></tr>\n",
       "<tr><td>2008-01-03</td><td>LAS</td><td>BUR</td><td>13</td><td>62</td></tr>\n",
       "<tr><td>2008-01-03</td><td>LAX</td><td>PHX</td><td>13</td><td>66</td></tr>\n",
       "<tr><td>2008-01-03</td><td>LAX</td><td>SJC</td><td>13</td><td>64</td></tr>\n",
       "<tr><td>2008-01-03</td><td>LAS</td><td>RNO</td><td>13</td><td>74</td></tr>\n",
       "<tr><td>2008-01-03</td><td>LAS</td><td>OAK</td><td>13</td><td>95</td></tr>\n",
       "</table>\n",
       "only showing top 10 rows\n"
      ],
      "text/plain": [
       "+----------+--------------+-------------------+-------------+---------------+\n",
       "|      date|airport_origin|airport_destination|count_flights|avg_flight_time|\n",
       "+----------+--------------+-------------------+-------------+---------------+\n",
       "|2008-01-03|           LAX|                OAK|           20|             80|\n",
       "|2008-01-03|           LAS|                PHX|           18|             64|\n",
       "|2008-01-03|           LAX|                LAS|           14|             63|\n",
       "|2008-01-03|           LAS|                LAX|           14|             67|\n",
       "|2008-01-03|           LAS|                SAN|           14|             63|\n",
       "|2008-01-03|           LAS|                BUR|           13|             62|\n",
       "|2008-01-03|           LAX|                PHX|           13|             66|\n",
       "|2008-01-03|           LAX|                SJC|           13|             64|\n",
       "|2008-01-03|           LAS|                RNO|           13|             74|\n",
       "|2008-01-03|           LAS|                OAK|           13|             95|\n",
       "+----------+--------------+-------------------+-------------+---------------+\n",
       "only showing top 10 rows"
      ]
     },
     "execution_count": 4,
     "metadata": {},
     "output_type": "execute_result"
    }
   ],
   "source": [
    "df = (\n",
    "    df\n",
    "    .withColumn(\"date\", F.to_date(F.concat(\"year\", F.lit(\"-\"), \"month\", F.lit(\"-\"), \"day\")))\n",
    "    .where(\"is_cancelled = 0 and is_diverted = 0\")\n",
    "    .groupBy(\"date\", \"airport_origin\", \"airport_destination\")\n",
    "    .agg({\"*\": \"count\", \"flight_time\": \"avg\"})\n",
    "    .withColumnRenamed(\"count(1)\", \"count_flights\")\n",
    "    .withColumnRenamed(\"avg(flight_time)\", \"avg_flight_time\")\n",
    "    .withColumn(\"avg_flight_time\", F.col(\"avg_flight_time\").cast(\"int\"))\n",
    ")\n",
    "df.orderBy(\"count_flights\", ascending=False)"
   ]
  },
  {
   "cell_type": "markdown",
   "id": "822ca660-9dd0-46bd-b4c9-bebe3f321e6b",
   "metadata": {},
   "source": [
    "# Write to partitioned Iceberg table"
   ]
  },
  {
   "cell_type": "code",
   "execution_count": 6,
   "id": "a65f6f53-a5b2-4e04-af43-e928b25adaa3",
   "metadata": {},
   "outputs": [],
   "source": [
    "(\n",
    "    df\n",
    "    .writeTo(\"local.default.flights\")\n",
    "    .partitionedBy(\"date\")\n",
    "    .createOrReplace()\n",
    ")"
   ]
  },
  {
   "cell_type": "markdown",
   "id": "ec4ba7ed-da47-4cea-b1a3-e2dada479def",
   "metadata": {
    "tags": []
   },
   "source": [
    "# Perform updates, deletes and merges on the table"
   ]
  },
  {
   "cell_type": "markdown",
   "id": "94c67688-ff9e-4d4e-a234-362fdcab510f",
   "metadata": {},
   "source": [
    "### Update and delete"
   ]
  },
  {
   "cell_type": "code",
   "execution_count": 7,
   "id": "00b71246-cce5-4e13-a2e1-6f5d7b8a8c16",
   "metadata": {},
   "outputs": [
    {
     "data": {
      "text/html": [
       "<table border='1'>\n",
       "<tr><th>date</th><th>airport_origin</th><th>airport_destination</th><th>count_flights</th><th>avg_flight_time</th></tr>\n",
       "<tr><td>2008-01-03</td><td>LAX</td><td>OAK</td><td>20</td><td>null</td></tr>\n",
       "<tr><td>2008-01-03</td><td>LAX</td><td>PHX</td><td>13</td><td>66</td></tr>\n",
       "<tr><td>2008-01-03</td><td>LAX</td><td>SJC</td><td>13</td><td>64</td></tr>\n",
       "<tr><td>2008-01-03</td><td>MCI</td><td>MDW</td><td>12</td><td>81</td></tr>\n",
       "<tr><td>2008-01-03</td><td>MDW</td><td>MCI</td><td>12</td><td>79</td></tr>\n",
       "<tr><td>2008-01-03</td><td>HOU</td><td>MSY</td><td>11</td><td>58</td></tr>\n",
       "<tr><td>2008-01-03</td><td>MHT</td><td>BWI</td><td>11</td><td>79</td></tr>\n",
       "<tr><td>2008-01-03</td><td>LAX</td><td>SMF</td><td>10</td><td>71</td></tr>\n",
       "<tr><td>2008-01-03</td><td>MDW</td><td>STL</td><td>10</td><td>59</td></tr>\n",
       "<tr><td>2008-01-03</td><td>HRL</td><td>HOU</td><td>9</td><td>54</td></tr>\n",
       "</table>\n",
       "only showing top 10 rows\n"
      ],
      "text/plain": [
       "+----------+--------------+-------------------+-------------+---------------+\n",
       "|      date|airport_origin|airport_destination|count_flights|avg_flight_time|\n",
       "+----------+--------------+-------------------+-------------+---------------+\n",
       "|2008-01-03|           LAX|                OAK|           20|           null|\n",
       "|2008-01-03|           LAX|                PHX|           13|             66|\n",
       "|2008-01-03|           LAX|                SJC|           13|             64|\n",
       "|2008-01-03|           MCI|                MDW|           12|             81|\n",
       "|2008-01-03|           MDW|                MCI|           12|             79|\n",
       "|2008-01-03|           HOU|                MSY|           11|             58|\n",
       "|2008-01-03|           MHT|                BWI|           11|             79|\n",
       "|2008-01-03|           LAX|                SMF|           10|             71|\n",
       "|2008-01-03|           MDW|                STL|           10|             59|\n",
       "|2008-01-03|           HRL|                HOU|            9|             54|\n",
       "+----------+--------------+-------------------+-------------+---------------+\n",
       "only showing top 10 rows"
      ]
     },
     "execution_count": 7,
     "metadata": {},
     "output_type": "execute_result"
    }
   ],
   "source": [
    "spark.sql(\"\"\"\n",
    "    UPDATE local.default.flights\n",
    "    SET avg_flight_time = NULL\n",
    "    WHERE avg_flight_time = 80\n",
    "\"\"\")\n",
    "\n",
    "spark.sql(\"\"\"\n",
    "    DELETE FROM local.default.flights\n",
    "    WHERE airport_origin = 'LAS' or airport_destination = 'LAS'\n",
    "\"\"\")\n",
    "\n",
    "spark.sql(\"\"\"\n",
    "    SELECT *\n",
    "    FROM local.default.flights\n",
    "    ORDER BY count_flights DESC\n",
    "\"\"\")"
   ]
  },
  {
   "cell_type": "markdown",
   "id": "dbbf644c-db09-4a86-a5d3-aa898d998d5a",
   "metadata": {},
   "source": [
    "### Merge"
   ]
  },
  {
   "cell_type": "code",
   "execution_count": 8,
   "id": "5fdb930e-755d-483b-9d5d-50827b6f9fa4",
   "metadata": {},
   "outputs": [
    {
     "data": {
      "text/html": [
       "<table border='1'>\n",
       "<tr><th>date</th><th>airport_origin</th><th>airport_destination</th><th>count_flights</th><th>avg_flight_time</th></tr>\n",
       "<tr><td>2008-01-04</td><td>JFK</td><td>EZE</td><td>22</td><td>660</td></tr>\n",
       "<tr><td>2008-01-03</td><td>LAX</td><td>OAK</td><td>21</td><td>83</td></tr>\n",
       "<tr><td>2008-01-03</td><td>LAX</td><td>SJC</td><td>13</td><td>64</td></tr>\n",
       "<tr><td>2008-01-03</td><td>LAX</td><td>PHX</td><td>13</td><td>66</td></tr>\n",
       "<tr><td>2008-01-03</td><td>MCI</td><td>MDW</td><td>12</td><td>81</td></tr>\n",
       "<tr><td>2008-01-03</td><td>MDW</td><td>MCI</td><td>12</td><td>79</td></tr>\n",
       "<tr><td>2008-01-03</td><td>HOU</td><td>MSY</td><td>11</td><td>58</td></tr>\n",
       "<tr><td>2008-01-03</td><td>MHT</td><td>BWI</td><td>11</td><td>79</td></tr>\n",
       "<tr><td>2008-01-03</td><td>LAX</td><td>SMF</td><td>10</td><td>71</td></tr>\n",
       "<tr><td>2008-01-03</td><td>MDW</td><td>STL</td><td>10</td><td>59</td></tr>\n",
       "</table>\n",
       "only showing top 10 rows\n"
      ],
      "text/plain": [
       "+----------+--------------+-------------------+-------------+---------------+\n",
       "|      date|airport_origin|airport_destination|count_flights|avg_flight_time|\n",
       "+----------+--------------+-------------------+-------------+---------------+\n",
       "|2008-01-04|           JFK|                EZE|           22|            660|\n",
       "|2008-01-03|           LAX|                OAK|           21|             83|\n",
       "|2008-01-03|           LAX|                SJC|           13|             64|\n",
       "|2008-01-03|           LAX|                PHX|           13|             66|\n",
       "|2008-01-03|           MCI|                MDW|           12|             81|\n",
       "|2008-01-03|           MDW|                MCI|           12|             79|\n",
       "|2008-01-03|           HOU|                MSY|           11|             58|\n",
       "|2008-01-03|           MHT|                BWI|           11|             79|\n",
       "|2008-01-03|           LAX|                SMF|           10|             71|\n",
       "|2008-01-03|           MDW|                STL|           10|             59|\n",
       "+----------+--------------+-------------------+-------------+---------------+\n",
       "only showing top 10 rows"
      ]
     },
     "execution_count": 8,
     "metadata": {},
     "output_type": "execute_result"
    }
   ],
   "source": [
    "incoming_df = spark.createDataFrame([\n",
    "    {\"date\": date(2008, 1, 3), \"airport_origin\": \"LAX\", \"airport_destination\": \"OAK\", \"count_flights\": 21, \"avg_flight_time\": 83},\n",
    "    {\"date\": date(2008, 1, 4), \"airport_origin\": \"JFK\", \"airport_destination\": \"EZE\", \"count_flights\": 22, \"avg_flight_time\": 660},\n",
    "])\n",
    "incoming_df.createOrReplaceTempView(\"flights_incoming_data\")\n",
    "\n",
    "spark.sql(\"\"\"\n",
    "    MERGE INTO local.default.flights t\n",
    "    USING flights_incoming_data s\n",
    "    ON t.date = s.date\n",
    "        AND t.airport_origin = s.airport_origin\n",
    "        AND t.airport_destination = s.airport_destination\n",
    "    WHEN MATCHED THEN UPDATE SET t.count_flights = s.count_flights, t.avg_flight_time = s.avg_flight_time\n",
    "    WHEN NOT MATCHED THEN INSERT *\n",
    "\"\"\")\n",
    "\n",
    "spark.sql(\"\"\"\n",
    "    SELECT *\n",
    "    FROM local.default.flights\n",
    "    ORDER BY count_flights DESC\n",
    "\"\"\")"
   ]
  },
  {
   "cell_type": "markdown",
   "id": "7e40b409-acd1-4940-ad57-403f1f9bffa8",
   "metadata": {},
   "source": [
    "# Time travel"
   ]
  },
  {
   "cell_type": "markdown",
   "id": "ed8592de-4a86-4463-92d2-27e6c6cbc625",
   "metadata": {},
   "source": [
    "### Query table history and older snapshots"
   ]
  },
  {
   "cell_type": "code",
   "execution_count": 9,
   "id": "be04cbaf-6af8-481f-9fdf-a1f80ec28573",
   "metadata": {},
   "outputs": [
    {
     "data": {
      "text/html": [
       "<table border='1'>\n",
       "<tr><th>made_current_at</th><th>snapshot_id</th><th>parent_id</th><th>is_current_ancestor</th></tr>\n",
       "<tr><td>2022-08-12 16:41:...</td><td>5958846659430833687</td><td>null</td><td>true</td></tr>\n",
       "<tr><td>2022-08-12 16:41:...</td><td>3964990362212599387</td><td>5958846659430833687</td><td>true</td></tr>\n",
       "<tr><td>2022-08-12 16:41:...</td><td>5520539507180026574</td><td>3964990362212599387</td><td>true</td></tr>\n",
       "<tr><td>2022-08-12 16:42:...</td><td>1760527321587632917</td><td>5520539507180026574</td><td>true</td></tr>\n",
       "</table>\n"
      ],
      "text/plain": [
       "+--------------------+-------------------+-------------------+-------------------+\n",
       "|     made_current_at|        snapshot_id|          parent_id|is_current_ancestor|\n",
       "+--------------------+-------------------+-------------------+-------------------+\n",
       "|2022-08-12 16:41:...|5958846659430833687|               null|               true|\n",
       "|2022-08-12 16:41:...|3964990362212599387|5958846659430833687|               true|\n",
       "|2022-08-12 16:41:...|5520539507180026574|3964990362212599387|               true|\n",
       "|2022-08-12 16:42:...|1760527321587632917|5520539507180026574|               true|\n",
       "+--------------------+-------------------+-------------------+-------------------+"
      ]
     },
     "execution_count": 9,
     "metadata": {},
     "output_type": "execute_result"
    }
   ],
   "source": [
    "spark.sql(\"\"\"\n",
    "    SELECT *\n",
    "    FROM local.default.flights.history\n",
    "\"\"\")"
   ]
  },
  {
   "cell_type": "code",
   "execution_count": 10,
   "id": "66125e57-9d62-4aec-a4d2-e7c9648ebc0e",
   "metadata": {},
   "outputs": [
    {
     "data": {
      "text/html": [
       "<table border='1'>\n",
       "<tr><th>committed_at</th><th>snapshot_id</th><th>parent_id</th><th>operation</th><th>manifest_list</th><th>summary</th></tr>\n",
       "<tr><td>2022-08-12 16:41:...</td><td>4741357521111167692</td><td>null</td><td>append</td><td>spark-warehouse/d...</td><td>{spark.app.id -&gt; ...</td></tr>\n",
       "<tr><td>2022-08-12 16:41:...</td><td>5958846659430833687</td><td>null</td><td>append</td><td>spark-warehouse/d...</td><td>{spark.app.id -&gt; ...</td></tr>\n",
       "<tr><td>2022-08-12 16:41:...</td><td>3964990362212599387</td><td>5958846659430833687</td><td>overwrite</td><td>spark-warehouse/d...</td><td>{spark.app.id -&gt; ...</td></tr>\n",
       "<tr><td>2022-08-12 16:41:...</td><td>5520539507180026574</td><td>3964990362212599387</td><td>overwrite</td><td>spark-warehouse/d...</td><td>{spark.app.id -&gt; ...</td></tr>\n",
       "<tr><td>2022-08-12 16:42:...</td><td>1760527321587632917</td><td>5520539507180026574</td><td>overwrite</td><td>spark-warehouse/d...</td><td>{spark.app.id -&gt; ...</td></tr>\n",
       "</table>\n"
      ],
      "text/plain": [
       "+--------------------+-------------------+-------------------+---------+--------------------+--------------------+\n",
       "|        committed_at|        snapshot_id|          parent_id|operation|       manifest_list|             summary|\n",
       "+--------------------+-------------------+-------------------+---------+--------------------+--------------------+\n",
       "|2022-08-12 16:41:...|4741357521111167692|               null|   append|spark-warehouse/d...|{spark.app.id -> ...|\n",
       "|2022-08-12 16:41:...|5958846659430833687|               null|   append|spark-warehouse/d...|{spark.app.id -> ...|\n",
       "|2022-08-12 16:41:...|3964990362212599387|5958846659430833687|overwrite|spark-warehouse/d...|{spark.app.id -> ...|\n",
       "|2022-08-12 16:41:...|5520539507180026574|3964990362212599387|overwrite|spark-warehouse/d...|{spark.app.id -> ...|\n",
       "|2022-08-12 16:42:...|1760527321587632917|5520539507180026574|overwrite|spark-warehouse/d...|{spark.app.id -> ...|\n",
       "+--------------------+-------------------+-------------------+---------+--------------------+--------------------+"
      ]
     },
     "execution_count": 10,
     "metadata": {},
     "output_type": "execute_result"
    }
   ],
   "source": [
    "spark.sql(\"\"\"\n",
    "    SELECT *\n",
    "    FROM local.default.flights.snapshots\n",
    "\"\"\")"
   ]
  },
  {
   "cell_type": "code",
   "execution_count": 11,
   "id": "53765cde-7ddf-40e4-9462-12152f1d665f",
   "metadata": {},
   "outputs": [
    {
     "data": {
      "text/html": [
       "<table border='1'>\n",
       "<tr><th>date</th><th>airport_origin</th><th>airport_destination</th><th>count_flights</th><th>avg_flight_time</th></tr>\n",
       "<tr><td>2008-01-03</td><td>LAX</td><td>OAK</td><td>20</td><td>80</td></tr>\n",
       "<tr><td>2008-01-03</td><td>LAS</td><td>PHX</td><td>18</td><td>64</td></tr>\n",
       "<tr><td>2008-01-03</td><td>LAX</td><td>LAS</td><td>14</td><td>63</td></tr>\n",
       "<tr><td>2008-01-03</td><td>LAS</td><td>LAX</td><td>14</td><td>67</td></tr>\n",
       "<tr><td>2008-01-03</td><td>LAS</td><td>SAN</td><td>14</td><td>63</td></tr>\n",
       "<tr><td>2008-01-03</td><td>LAS</td><td>BUR</td><td>13</td><td>62</td></tr>\n",
       "<tr><td>2008-01-03</td><td>LAX</td><td>PHX</td><td>13</td><td>66</td></tr>\n",
       "<tr><td>2008-01-03</td><td>LAX</td><td>SJC</td><td>13</td><td>64</td></tr>\n",
       "<tr><td>2008-01-03</td><td>LAS</td><td>RNO</td><td>13</td><td>74</td></tr>\n",
       "<tr><td>2008-01-03</td><td>LAS</td><td>OAK</td><td>13</td><td>95</td></tr>\n",
       "</table>\n",
       "only showing top 10 rows\n"
      ],
      "text/plain": [
       "+----------+--------------+-------------------+-------------+---------------+\n",
       "|      date|airport_origin|airport_destination|count_flights|avg_flight_time|\n",
       "+----------+--------------+-------------------+-------------+---------------+\n",
       "|2008-01-03|           LAX|                OAK|           20|             80|\n",
       "|2008-01-03|           LAS|                PHX|           18|             64|\n",
       "|2008-01-03|           LAX|                LAS|           14|             63|\n",
       "|2008-01-03|           LAS|                LAX|           14|             67|\n",
       "|2008-01-03|           LAS|                SAN|           14|             63|\n",
       "|2008-01-03|           LAS|                BUR|           13|             62|\n",
       "|2008-01-03|           LAX|                PHX|           13|             66|\n",
       "|2008-01-03|           LAX|                SJC|           13|             64|\n",
       "|2008-01-03|           LAS|                RNO|           13|             74|\n",
       "|2008-01-03|           LAS|                OAK|           13|             95|\n",
       "+----------+--------------+-------------------+-------------+---------------+\n",
       "only showing top 10 rows"
      ]
     },
     "execution_count": 11,
     "metadata": {},
     "output_type": "execute_result"
    }
   ],
   "source": [
    "(\n",
    "    spark\n",
    "    .read\n",
    "    .option(\"snapshot-id\", \"5958846659430833687\")\n",
    "    .table(\"local.default.flights\")\n",
    "    .orderBy(\"count_flights\", ascending=False)\n",
    ")"
   ]
  },
  {
   "cell_type": "markdown",
   "id": "1f30fdf8-c385-452d-8302-6b459283deaa",
   "metadata": {},
   "source": [
    "### Rollback to older snapshot"
   ]
  },
  {
   "cell_type": "code",
   "execution_count": 12,
   "id": "2c968159-e339-4563-ac59-1a74880bb1cf",
   "metadata": {},
   "outputs": [
    {
     "data": {
      "text/html": [
       "<table border='1'>\n",
       "<tr><th>previous_snapshot_id</th><th>current_snapshot_id</th></tr>\n",
       "<tr><td>1760527321587632917</td><td>5958846659430833687</td></tr>\n",
       "</table>\n"
      ],
      "text/plain": [
       "+--------------------+-------------------+\n",
       "|previous_snapshot_id|current_snapshot_id|\n",
       "+--------------------+-------------------+\n",
       "| 1760527321587632917|5958846659430833687|\n",
       "+--------------------+-------------------+"
      ]
     },
     "execution_count": 12,
     "metadata": {},
     "output_type": "execute_result"
    }
   ],
   "source": [
    "spark.sql(\"\"\"\n",
    "    CALL local.system.rollback_to_snapshot(table => 'local.default.flights', snapshot_id => 5958846659430833687)\n",
    "\"\"\")"
   ]
  },
  {
   "cell_type": "markdown",
   "id": "014684c1-9fcb-470a-87c0-f1c6b9f07b4c",
   "metadata": {
    "tags": []
   },
   "source": [
    "# Remove old snapshots"
   ]
  },
  {
   "cell_type": "code",
   "execution_count": 13,
   "id": "76b5b090-23a7-4a8e-bcee-5d56666a1d60",
   "metadata": {},
   "outputs": [
    {
     "name": "stderr",
     "output_type": "stream",
     "text": [
      "                                                                                \r"
     ]
    },
    {
     "data": {
      "text/html": [
       "<table border='1'>\n",
       "<tr><th>deleted_data_files_count</th><th>deleted_position_delete_files_count</th><th>deleted_equality_delete_files_count</th><th>deleted_manifest_files_count</th><th>deleted_manifest_lists_count</th></tr>\n",
       "<tr><td>5</td><td>0</td><td>0</td><td>7</td><td>4</td></tr>\n",
       "</table>\n"
      ],
      "text/plain": [
       "+------------------------+-----------------------------------+-----------------------------------+----------------------------+----------------------------+\n",
       "|deleted_data_files_count|deleted_position_delete_files_count|deleted_equality_delete_files_count|deleted_manifest_files_count|deleted_manifest_lists_count|\n",
       "+------------------------+-----------------------------------+-----------------------------------+----------------------------+----------------------------+\n",
       "|                       5|                                  0|                                  0|                           7|                           4|\n",
       "+------------------------+-----------------------------------+-----------------------------------+----------------------------+----------------------------+"
      ]
     },
     "execution_count": 13,
     "metadata": {},
     "output_type": "execute_result"
    }
   ],
   "source": [
    "spark.sql(\"\"\"\n",
    "    CALL local.system.expire_snapshots(table => 'local.default.flights', older_than => TIMESTAMP '2023-01-01', retain_last => 1)\n",
    "\"\"\")"
   ]
  },
  {
   "cell_type": "code",
   "execution_count": 14,
   "id": "d25d76e9-2ee8-41ac-805c-9546eb3df04c",
   "metadata": {},
   "outputs": [
    {
     "data": {
      "text/html": [
       "<table border='1'>\n",
       "<tr><th>committed_at</th><th>snapshot_id</th><th>parent_id</th><th>operation</th><th>manifest_list</th><th>summary</th></tr>\n",
       "<tr><td>2022-08-12 16:41:...</td><td>5958846659430833687</td><td>null</td><td>append</td><td>spark-warehouse/d...</td><td>{spark.app.id -&gt; ...</td></tr>\n",
       "</table>\n"
      ],
      "text/plain": [
       "+--------------------+-------------------+---------+---------+--------------------+--------------------+\n",
       "|        committed_at|        snapshot_id|parent_id|operation|       manifest_list|             summary|\n",
       "+--------------------+-------------------+---------+---------+--------------------+--------------------+\n",
       "|2022-08-12 16:41:...|5958846659430833687|     null|   append|spark-warehouse/d...|{spark.app.id -> ...|\n",
       "+--------------------+-------------------+---------+---------+--------------------+--------------------+"
      ]
     },
     "execution_count": 14,
     "metadata": {},
     "output_type": "execute_result"
    }
   ],
   "source": [
    "spark.sql(\"\"\"\n",
    "    SELECT *\n",
    "    FROM local.default.flights.snapshots\n",
    "\"\"\")"
   ]
  },
  {
   "cell_type": "markdown",
   "id": "053fba2f-0afd-479f-bb29-efaa323d4042",
   "metadata": {},
   "source": [
    "# Compact small files"
   ]
  },
  {
   "cell_type": "code",
   "execution_count": 15,
   "id": "3121a364-abb7-474c-8723-81d260c83a97",
   "metadata": {},
   "outputs": [
    {
     "data": {
      "text/html": [
       "<table border='1'>\n",
       "<tr><th>rewritten_data_files_count</th><th>added_data_files_count</th></tr>\n",
       "<tr><td>0</td><td>0</td></tr>\n",
       "</table>\n"
      ],
      "text/plain": [
       "+--------------------------+----------------------+\n",
       "|rewritten_data_files_count|added_data_files_count|\n",
       "+--------------------------+----------------------+\n",
       "|                         0|                     0|\n",
       "+--------------------------+----------------------+"
      ]
     },
     "execution_count": 15,
     "metadata": {},
     "output_type": "execute_result"
    }
   ],
   "source": [
    "spark.sql(\"\"\"\n",
    "    CALL local.system.rewrite_data_files(table => 'local.default.flights')\n",
    "\"\"\")"
   ]
  },
  {
   "cell_type": "code",
   "execution_count": null,
   "id": "c1b3284b-cf4c-403a-b677-2b7792fe0045",
   "metadata": {},
   "outputs": [],
   "source": []
  }
 ],
 "metadata": {
  "kernelspec": {
   "display_name": "Python 3 (ipykernel)",
   "language": "python",
   "name": "python3"
  },
  "language_info": {
   "codemirror_mode": {
    "name": "ipython",
    "version": 3
   },
   "file_extension": ".py",
   "mimetype": "text/x-python",
   "name": "python",
   "nbconvert_exporter": "python",
   "pygments_lexer": "ipython3",
   "version": "3.9.0"
  }
 },
 "nbformat": 4,
 "nbformat_minor": 5
}
