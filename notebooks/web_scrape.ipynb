{
 "cells": [
  {
   "cell_type": "code",
   "execution_count": 38,
   "id": "247175cb-f11b-4c2d-9b94-8c464229702b",
   "metadata": {},
   "outputs": [],
   "source": [
    "import requests\n",
    "from bs4 import BeautifulSoup"
   ]
  },
  {
   "cell_type": "code",
   "execution_count": 39,
   "id": "050cb26e-f716-4351-86ab-862b4341b6c2",
   "metadata": {},
   "outputs": [],
   "source": [
    "url = \"https://www.zeltheld.com/de/festivals.htm\"\n",
    "html = requests.get(url).content"
   ]
  },
  {
   "cell_type": "code",
   "execution_count": 40,
   "id": "a94632e0-c81c-4a63-848d-bb9b83979695",
   "metadata": {},
   "outputs": [],
   "source": [
    "soup = BeautifulSoup(html, \"html.parser\")"
   ]
  },
  {
   "cell_type": "code",
   "execution_count": 41,
   "id": "cecef4aa-fbba-432e-ba39-c25ff032f9ad",
   "metadata": {},
   "outputs": [],
   "source": [
    "existing_content = \"\\nTop\\n\\n\\nHome>Wähle Dein Festival\\n \\n\\n\\n\\n\\nDu hast noch keine Artikel im Warenkorb.\\n\\n\\n\\n\\n\\n\\nKundenservice\\n\\nKontakt & Beratung\\n\\n\\r\\n                        Telefon:\\r\\n                        +49.179.2428317\\r\\n                    \\n\\n\\r\\n                        E-Mail: service@zeltheld.com\\nMehr\\n\\n\\n\\r\\n                        Antworten auf häufige Fragen findest Du in unseren FAQs\\nMehr\\n\\nSicherheit und Datenschutz\\nDeine Sicherheitist uns wichtig.Mehr\\nBequem bezahlen\\nPer Banküberweisung oder einfach mit Paypal. Mehr\\n\\n\\n\\n\\nCommunity\\n\\n\\nTeile Gutes mit Deinen Freunden\\nWenn Du unseren Service gut findest, dann folge uns im sozialen Netzwerk:\\n\\n\\n\\nOder melde Dich hier für unseren Newsletter an:\\n\\nNewsletter bestellen\\n\\n\\n\\n\\n\\n\\n\\n\\n\\n\""
   ]
  },
  {
   "cell_type": "code",
   "execution_count": 42,
   "id": "78801ed2-54e5-4d3d-a38b-693ae6eab263",
   "metadata": {},
   "outputs": [],
   "source": [
    "new_content_raw = soup.find(id=\"main\")\n",
    "\n",
    "if not new_content_raw:\n",
    "    raise Exception(\"Unable to find content in HTML\")\n",
    "\n",
    "new_content = new_content_raw.get_text()"
   ]
  },
  {
   "cell_type": "code",
   "execution_count": 43,
   "id": "598afb24-05e5-4c3e-8677-58cbcc564564",
   "metadata": {},
   "outputs": [],
   "source": [
    "if new_content != existing_content:\n",
    "    raise Exception(\"Content changed!!\")\n",
    "\n",
    "print(\"Content not changed, all good.\")"
   ]
  },
  {
   "cell_type": "code",
   "execution_count": null,
   "id": "61846d98-f1df-4d15-8978-2b22215b8d21",
   "metadata": {},
   "outputs": [],
   "source": []
  }
 ],
 "metadata": {
  "kernelspec": {
   "display_name": "Python 3 (ipykernel)",
   "language": "python",
   "name": "python3"
  },
  "language_info": {
   "codemirror_mode": {
    "name": "ipython",
    "version": 3
   },
   "file_extension": ".py",
   "mimetype": "text/x-python",
   "name": "python",
   "nbconvert_exporter": "python",
   "pygments_lexer": "ipython3",
   "version": "3.10.4"
  }
 },
 "nbformat": 4,
 "nbformat_minor": 5
}
